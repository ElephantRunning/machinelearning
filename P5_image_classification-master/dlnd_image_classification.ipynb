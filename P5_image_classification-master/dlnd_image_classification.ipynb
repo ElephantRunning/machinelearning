{
 "cells": [
  {
   "cell_type": "markdown",
   "metadata": {
    "colab_type": "text",
    "id": "SkE-DzFHf17-"
   },
   "source": [
    "# 图像分类\n",
    "\n",
    "在此项目中，你将对 [CIFAR-10 数据集](https://www.cs.toronto.edu/~kriz/cifar.html) 中的图片进行分类。该数据集包含飞机、猫狗和其他物体。你需要预处理这些图片，然后用所有样本训练一个卷积神经网络。图片需要标准化（normalized），标签需要采用 one-hot 编码。你需要应用所学的知识构建卷积的、最大池化（max pooling）、丢弃（dropout）和完全连接（fully connected）的层。最后，你需要在样本图片上看到神经网络的预测结果。\n",
    "\n",
    "\n",
    "## 获取数据\n",
    "\n",
    "请运行以下单元，以下载 [CIFAR-10 数据集（Python版）](https://www.cs.toronto.edu/~kriz/cifar-10-python.tar.gz)。\n"
   ]
  },
  {
   "cell_type": "code",
   "execution_count": 1,
   "metadata": {
    "colab": {
     "autoexec": {
      "startup": false,
      "wait_interval": 0
     }
    },
    "colab_type": "code",
    "id": "OpfDZz12f18A"
   },
   "outputs": [
    {
     "name": "stderr",
     "output_type": "stream",
     "text": [
      "CIFAR-10 Dataset: 171MB [00:15, 11.0MB/s]                              \n"
     ]
    },
    {
     "name": "stdout",
     "output_type": "stream",
     "text": [
      "All files found!\n"
     ]
    }
   ],
   "source": [
    "\"\"\"\n",
    "DON'T MODIFY ANYTHING IN THIS CELL THAT IS BELOW THIS LINE\n",
    "\"\"\"\n",
    "from urllib.request import urlretrieve\n",
    "from os.path import isfile, isdir\n",
    "from tqdm import tqdm\n",
    "import problem_unittests as tests\n",
    "import tarfile\n",
    "\n",
    "cifar10_dataset_folder_path = 'cifar-10-batches-py'\n",
    "\n",
    "# Use Floyd's cifar-10 dataset if present\n",
    "floyd_cifar10_location = '/input/cifar-10/python.tar.gz'\n",
    "if isfile(floyd_cifar10_location):\n",
    "    tar_gz_path = floyd_cifar10_location\n",
    "else:\n",
    "    tar_gz_path = 'cifar-10-python.tar.gz'\n",
    "\n",
    "class DLProgress(tqdm):\n",
    "    last_block = 0\n",
    "\n",
    "    def hook(self, block_num=1, block_size=1, total_size=None):\n",
    "        self.total = total_size\n",
    "        self.update((block_num - self.last_block) * block_size)\n",
    "        self.last_block = block_num\n",
    "\n",
    "if not isfile(tar_gz_path):\n",
    "    with DLProgress(unit='B', unit_scale=True, miniters=1, desc='CIFAR-10 Dataset') as pbar:\n",
    "        urlretrieve(\n",
    "            'https://www.cs.toronto.edu/~kriz/cifar-10-python.tar.gz',\n",
    "            tar_gz_path,\n",
    "            pbar.hook)\n",
    "\n",
    "if not isdir(cifar10_dataset_folder_path):\n",
    "    with tarfile.open(tar_gz_path) as tar:\n",
    "        tar.extractall()\n",
    "        tar.close()\n",
    "\n",
    "\n",
    "tests.test_folder_path(cifar10_dataset_folder_path)"
   ]
  },
  {
   "cell_type": "markdown",
   "metadata": {
    "colab_type": "text",
    "id": "cWfZUfv7f18M"
   },
   "source": [
    "## 探索数据\n",
    "\n",
    "该数据集分成了几部分／批次（batches），以免你的机器在计算时内存不足。CIFAR-10 数据集包含 5 个部分，名称分别为 `data_batch_1`、`data_batch_2`，以此类推。每个部分都包含以下某个类别的标签和图片：\n",
    "\n",
    "* 飞机\n",
    "* 汽车\n",
    "* 鸟类\n",
    "* 猫\n",
    "* 鹿\n",
    "* 狗\n",
    "* 青蛙\n",
    "* 马\n",
    "* 船只\n",
    "* 卡车\n",
    "\n",
    "了解数据集也是对数据进行预测的必经步骤。你可以通过更改 `batch_id` 和 `sample_id` 探索下面的代码单元。`batch_id` 是数据集一个部分的 ID（1 到 5）。`sample_id` 是该部分中图片和标签对（label pair）的 ID。\n",
    "\n",
    "问问你自己：“可能的标签有哪些？”、“图片数据的值范围是多少？”、“标签是按顺序排列，还是随机排列的？”。思考类似的问题，有助于你预处理数据，并使预测结果更准确。\n"
   ]
  },
  {
   "cell_type": "code",
   "execution_count": 2,
   "metadata": {
    "colab": {
     "autoexec": {
      "startup": false,
      "wait_interval": 0
     }
    },
    "colab_type": "code",
    "id": "qEuAU2ayf18N"
   },
   "outputs": [
    {
     "name": "stdout",
     "output_type": "stream",
     "text": [
      "\n",
      "Stats of batch 1:\n",
      "Samples: 10000\n",
      "Label Counts: {0: 1005, 1: 974, 2: 1032, 3: 1016, 4: 999, 5: 937, 6: 1030, 7: 1001, 8: 1025, 9: 981}\n",
      "First 20 Labels: [6, 9, 9, 4, 1, 1, 2, 7, 8, 3, 4, 7, 7, 2, 9, 9, 9, 3, 2, 6]\n",
      "\n",
      "Example of Image 1:\n",
      "Image - Min Value: 5 Max Value: 254\n",
      "Image - Shape: (32, 32, 3)\n",
      "Label - Label Id: 9 Name: truck\n"
     ]
    },
    {
     "data": {
      "image/png": "[encoded data removed]",
      "text/plain": [
       "<matplotlib.figure.Figure at 0x7f2b230c7a20>"
      ]
     },
     "metadata": {
      "image/png": {
       "height": 250,
       "width": 253
      }
     },
     "output_type": "display_data"
    }
   ],
   "source": [
    "%matplotlib inline\n",
    "%config InlineBackend.figure_format = 'retina'\n",
    "\n",
    "import helper\n",
    "import numpy as np\n",
    "\n",
    "# Explore the dataset\n",
    "batch_id = 1\n",
    "sample_id = 1\n",
    "helper.display_stats(cifar10_dataset_folder_path, batch_id, sample_id)"
   ]
  },
  {
   "cell_type": "markdown",
   "metadata": {
    "colab_type": "text",
    "id": "Ndk7Cm2Ff18S"
   },
   "source": [
    "## 实现预处理函数\n",
    "\n",
    "### 标准化\n",
    "\n",
    "在下面的单元中，实现 `normalize` 函数，传入图片数据 `x`，并返回标准化 Numpy 数组。值应该在 0 到 1 的范围内（含 0 和 1）。返回对象应该和 `x` 的形状一样。\n"
   ]
  },
  {
   "cell_type": "code",
   "execution_count": 3,
   "metadata": {
    "colab": {
     "autoexec": {
      "startup": false,
      "wait_interval": 0
     }
    },
    "colab_type": "code",
    "id": "sGWus0gjf18T"
   },
   "outputs": [
    {
     "name": "stdout",
     "output_type": "stream",
     "text": [
      "Tests Passed\n"
     ]
    }
   ],
   "source": [
    "def normalize(x):\n",
    "    \"\"\"\n",
    "    Normalize a list of sample image data in the range of 0 to 1\n",
    "    : x: List of image data.  The image shape is (32, 32, 3)\n",
    "    : return: Numpy array of normalize data\n",
    "    \"\"\"\n",
    "    a = 0\n",
    "    b = 1\n",
    "    scale_min = 0\n",
    "    scale_max = 255\n",
    "    return a + ( ( (x - scale_min)*(b - a) )/( scale_max - scale_min ) )\n",
    "\n",
    "\"\"\"\n",
    "DON'T MODIFY ANYTHING IN THIS CELL THAT IS BELOW THIS LINE\n",
    "\"\"\"\n",
    "tests.test_normalize(normalize)"
   ]
  },
  {
   "cell_type": "markdown",
   "metadata": {
    "colab_type": "text",
    "id": "aHc2NXP6f18W"
   },
   "source": [
    "### One-hot 编码\n",
    "\n",
    "和之前的代码单元一样，你将为预处理实现一个函数。这次，你将实现 `one_hot_encode` 函数。输入，也就是 `x`，是一个标签列表。实现该函数，以返回为 one_hot 编码的 Numpy 数组的标签列表。标签的可能值为 0 到 9。每次调用 `one_hot_encode` 时，对于每个值，one_hot 编码函数应该返回相同的编码。确保将编码映射保存到该函数外面。\n",
    "\n",
    "提示：不要重复发明轮子。\n"
   ]
  },
  {
   "cell_type": "code",
   "execution_count": 4,
   "metadata": {
    "colab": {
     "autoexec": {
      "startup": false,
      "wait_interval": 0
     }
    },
    "colab_type": "code",
    "id": "hJJCzfLaf18X"
   },
   "outputs": [
    {
     "name": "stdout",
     "output_type": "stream",
     "text": [
      "Tests Passed\n"
     ]
    }
   ],
   "source": [
    "def get_one_hot_vector(number):\n",
    "    \"\"\"\n",
    "    Transform [0,1,..., 9] to one-hot encoding, and return to the encoded two-dimensional array\n",
    "    :param number: specified number, such as 0,1,...,9\n",
    "    :return: two-dimensional array\n",
    "    \"\"\"\n",
    "    from sklearn.preprocessing import LabelBinarizer\n",
    "    encoder = LabelBinarizer()\n",
    "    seed_vector = np.arange(10)\n",
    "    encoder.fit(seed_vector)\n",
    "    labels = encoder.transform(seed_vector)\n",
    "    return labels.astype(np.float32)\n",
    "\n",
    "def one_hot_encode(x):\n",
    "    \"\"\"\n",
    "    One hot encode a list of sample labels. Return a one-hot encoded vector for each label.\n",
    "    : x: List of sample Labels\n",
    "    : return: Numpy array of one-hot encoded labels\n",
    "    \"\"\"\n",
    "    # TODO: Implement Function\n",
    "    x_l = list(x)\n",
    "    for index in np.arange(len(x_l)):\n",
    "        x_l[index] = get_one_hot_vector(x[index])[x[index]]\n",
    "    return np.array(x_l)\n",
    "\n",
    "\n",
    "\n",
    "\"\"\"\n",
    "DON'T MODIFY ANYTHING IN THIS CELL THAT IS BELOW THIS LINE\n",
    "\"\"\"\n",
    "tests.test_one_hot_encode(one_hot_encode)"
   ]
  },
  {
   "cell_type": "markdown",
   "metadata": {
    "colab_type": "text",
    "id": "5lEM376Kf18b"
   },
   "source": [
    "### 随机化数据\n",
    "\n",
    "之前探索数据时，你已经了解到，样本的顺序是随机的。再随机化一次也不会有什么关系，但是对于这个数据集没有必要。\n"
   ]
  },
  {
   "cell_type": "markdown",
   "metadata": {
    "colab_type": "text",
    "id": "wP3aDgdhf18b"
   },
   "source": [
    "## 预处理所有数据并保存\n",
    "\n",
    "运行下方的代码单元，将预处理所有 CIFAR-10 数据，并保存到文件中。下面的代码还使用了 10% 的训练数据，用来验证。\n"
   ]
  },
  {
   "cell_type": "code",
   "execution_count": 5,
   "metadata": {
    "colab": {
     "autoexec": {
      "startup": false,
      "wait_interval": 0
     }
    },
    "colab_type": "code",
    "collapsed": true,
    "id": "7kGIhKwHf18c"
   },
   "outputs": [],
   "source": [
    "\"\"\"\n",
    "DON'T MODIFY ANYTHING IN THIS CELL\n",
    "\"\"\"\n",
    "# Preprocess Training, Validation, and Testing Data\n",
    "helper.preprocess_and_save_data(cifar10_dataset_folder_path, normalize, one_hot_encode)"
   ]
  },
  {
   "cell_type": "markdown",
   "metadata": {
    "colab_type": "text",
    "id": "iPtN0Xg1f18g"
   },
   "source": [
    "# 检查点\n",
    "\n",
    "这是你的第一个检查点。如果你什么时候决定再回到该记事本，或需要重新启动该记事本，你可以从这里开始。预处理的数据已保存到本地。\n"
   ]
  },
  {
   "cell_type": "code",
   "execution_count": 2,
   "metadata": {
    "colab": {
     "autoexec": {
      "startup": false,
      "wait_interval": 0
     }
    },
    "colab_type": "code",
    "collapsed": true,
    "id": "9GwO7grZf18h"
   },
   "outputs": [],
   "source": [
    "\"\"\"\n",
    "DON'T MODIFY ANYTHING IN THIS CELL\n",
    "\"\"\"\n",
    "import pickle\n",
    "import problem_unittests as tests\n",
    "import helper\n",
    "\n",
    "# Load the Preprocessed Validation data\n",
    "valid_features, valid_labels = pickle.load(open('preprocess_validation.p', mode='rb'))"
   ]
  },
  {
   "cell_type": "markdown",
   "metadata": {
    "colab_type": "text",
    "id": "sQ9CYpgrf18j"
   },
   "source": [
    "## 构建网络\n",
    "\n",
    "对于该神经网络，你需要将每层都构建为一个函数。你看到的大部分代码都位于函数外面。要更全面地测试你的代码，我们需要你将每层放入一个函数中。这样使我们能够提供更好的反馈，并使用我们的统一测试检测简单的错误，然后再提交项目。\n",
    "\n",
    ">**注意**：如果你觉得每周很难抽出足够的时间学习这门课程，我们为此项目提供了一个小捷径。对于接下来的几个问题，你可以使用 [TensorFlow Layers](https://www.tensorflow.org/api_docs/python/tf/layers) 或 [TensorFlow Layers (contrib)](https://www.tensorflow.org/api_guides/python/contrib.layers) 程序包中的类来构建每个层级，但是“卷积和最大池化层级”部分的层级除外。TF Layers 和 Keras 及 TFLearn 层级类似，因此很容易学会。\n",
    "\n",
    ">但是，如果你想充分利用这门课程，请尝试自己解决所有问题，不使用 TF Layers 程序包中的任何类。你依然可以使用其他程序包中的类，这些类和你在 TF Layers 中的类名称是一样的！例如，你可以使用 TF Neural Network 版本的 `conv2d` 类 [tf.nn.conv2d](https://www.tensorflow.org/api_docs/python/tf/nn/conv2d)，而不是 TF Layers 版本的 `conv2d` 类 [tf.layers.conv2d](https://www.tensorflow.org/api_docs/python/tf/layers/conv2d)。\n",
    "\n",
    "我们开始吧！\n",
    "\n",
    "\n",
    "### 输入\n",
    "\n",
    "神经网络需要读取图片数据、one-hot 编码标签和丢弃保留概率（dropout keep probability）。请实现以下函数：\n",
    "\n",
    "* 实现 `neural_net_image_input`\n",
    " * 返回 [TF Placeholder](https://www.tensorflow.org/api_docs/python/tf/placeholder)\n",
    " * 使用 `image_shape` 设置形状，部分大小设为 `None`\n",
    " * 使用 [TF Placeholder](https://www.tensorflow.org/api_docs/python/tf/placeholder) 中的 TensorFlow `name` 参数对 TensorFlow 占位符 \"x\" 命名\n",
    "* 实现 `neural_net_label_input`\n",
    " * 返回 [TF Placeholder](https://www.tensorflow.org/api_docs/python/tf/placeholder)\n",
    " * 使用 `n_classes` 设置形状，部分大小设为 `None`\n",
    " * 使用 [TF Placeholder](https://www.tensorflow.org/api_docs/python/tf/placeholder) 中的 TensorFlow `name` 参数对 TensorFlow 占位符 \"y\" 命名\n",
    "* 实现 `neural_net_keep_prob_input`\n",
    " * 返回 [TF Placeholder](https://www.tensorflow.org/api_docs/python/tf/placeholder)，用于丢弃保留概率\n",
    " * 使用 [TF Placeholder](https://www.tensorflow.org/api_docs/python/tf/placeholder) 中的 TensorFlow `name` 参数对 TensorFlow 占位符 \"keep_prob\" 命名\n",
    "\n",
    "这些名称将在项目结束时，用于加载保存的模型。\n",
    "\n",
    "注意：TensorFlow 中的 `None` 表示形状可以是动态大小。"
   ]
  },
  {
   "cell_type": "code",
   "execution_count": 3,
   "metadata": {
    "colab": {
     "autoexec": {
      "startup": false,
      "wait_interval": 0
     }
    },
    "colab_type": "code",
    "id": "9Au5Ag58f18k"
   },
   "outputs": [
    {
     "name": "stdout",
     "output_type": "stream",
     "text": [
      "Image Input Tests Passed.\n",
      "Label Input Tests Passed.\n",
      "Keep Prob Tests Passed.\n"
     ]
    }
   ],
   "source": [
    "import tensorflow as tf\n",
    "\n",
    "def neural_net_image_input(image_shape):\n",
    "    \"\"\"\n",
    "    Return a Tensor for a batch of image input\n",
    "    : image_shape: Shape of the images\n",
    "    : return: Tensor for image input.\n",
    "    \"\"\"\n",
    "    # TODO: Implement Function\n",
    "    return tf.placeholder(tf.float32, shape=[None, *image_shape], name=\"x\")\n",
    "\n",
    "\n",
    "def neural_net_label_input(n_classes):\n",
    "    \"\"\"\n",
    "    Return a Tensor for a batch of label input\n",
    "    : n_classes: Number of classes\n",
    "    : return: Tensor for label input.\n",
    "    \"\"\"\n",
    "    # TODO: Implement Function\n",
    "    return tf.placeholder(tf.float32, shape=[None, n_classes], name=\"y\")\n",
    "\n",
    "\n",
    "def neural_net_keep_prob_input():\n",
    "    \"\"\"\n",
    "    Return a Tensor for keep probability\n",
    "    : return: Tensor for keep probability.\n",
    "    \"\"\"\n",
    "    # TODO: Implement Function\n",
    "    return tf.placeholder(tf.float32, name=\"keep_prob\")\n",
    "\n",
    "\n",
    "\"\"\"\n",
    "DON'T MODIFY ANYTHING IN THIS CELL THAT IS BELOW THIS LINE\n",
    "\"\"\"\n",
    "tf.reset_default_graph()\n",
    "tests.test_nn_image_inputs(neural_net_image_input)\n",
    "tests.test_nn_label_inputs(neural_net_label_input)\n",
    "tests.test_nn_keep_prob_inputs(neural_net_keep_prob_input)"
   ]
  },
  {
   "cell_type": "markdown",
   "metadata": {
    "colab_type": "text",
    "id": "TmAHRGkRf18o"
   },
   "source": [
    "### 卷积和最大池化层\n",
    "\n",
    "卷积层级适合处理图片。对于此代码单元，你应该实现函数 `conv2d_maxpool` 以便应用卷积然后进行最大池化：\n",
    "\n",
    "* 使用 `conv_ksize`、`conv_num_outputs` 和 `x_tensor` 的形状创建权重（weight）和偏置（bias）。\n",
    "* 使用权重和 `conv_strides` 对 `x_tensor` 应用卷积。\n",
    " * 建议使用我们建议的间距（padding），当然也可以使用任何其他间距。\n",
    "* 添加偏置\n",
    "* 向卷积中添加非线性激活（nonlinear activation）\n",
    "* 使用 `pool_ksize` 和 `pool_strides` 应用最大池化\n",
    " * 建议使用我们建议的间距（padding），当然也可以使用任何其他间距。\n",
    "\n",
    "**注意**：对于**此层**，**请勿使用** [TensorFlow Layers](https://www.tensorflow.org/api_docs/python/tf/layers) 或 [TensorFlow Layers (contrib)](https://www.tensorflow.org/api_guides/python/contrib.layers)，但是仍然可以使用 TensorFlow 的 [Neural Network](https://www.tensorflow.org/api_docs/python/tf/nn) 包。对于所有**其他层**，你依然可以使用快捷方法。\n"
   ]
  },
  {
   "cell_type": "code",
   "execution_count": 4,
   "metadata": {
    "colab": {
     "autoexec": {
      "startup": false,
      "wait_interval": 0
     }
    },
    "colab_type": "code",
    "id": "gxh36fK3f18p"
   },
   "outputs": [
    {
     "name": "stdout",
     "output_type": "stream",
     "text": [
      "Tests Passed\n"
     ]
    }
   ],
   "source": [
    "def conv2d_maxpool(x_tensor, conv_num_outputs, conv_ksize, conv_strides, pool_ksize, pool_strides):\n",
    "    \"\"\"\n",
    "    Apply convolution then max pooling to x_tensor\n",
    "    :param x_tensor: TensorFlow Tensor\n",
    "    :param conv_num_outputs: Number of outputs for the convolutional layer\n",
    "    :param conv_ksize: kernal size 2-D Tuple for the convolutional layer\n",
    "    :param conv_strides: Stride 2-D Tuple for convolution\n",
    "    :param pool_ksize: kernal size 2-D Tuple for pool\n",
    "    :param pool_strides: Stride 2-D Tuple for pool\n",
    "    : return: A tensor that represents convolution and max pooling of x_tensor\n",
    "    \"\"\"\n",
    "    # TODO: Implement Function\n",
    "    conv_filter_w = tf.Variable(tf.truncated_normal([conv_ksize[0], conv_ksize[1], tf.cast(x_tensor.get_shape()[3], tf.int32), conv_num_outputs], stddev=0.1, dtype=tf.float32))\n",
    "    conv_filter_b =  tf.Variable(tf.zeros(conv_num_outputs))\n",
    "    # convolution and activation function\n",
    "    relu_feature_maps = tf.nn.relu(tf.nn.conv2d(x_tensor, conv_filter_w, strides=[1, conv_strides[0], conv_strides[1], 1], padding='SAME') + conv_filter_b)\n",
    "    max_pool = tf.nn.max_pool(relu_feature_maps, ksize=[1, pool_ksize[0], pool_ksize[1], 1],strides=[1, pool_ksize[0], pool_ksize[1], 1],padding='SAME')\n",
    "    return max_pool\n",
    "\n",
    "\"\"\"\n",
    "DON'T MODIFY ANYTHING IN THIS CELL THAT IS BELOW THIS LINE\n",
    "\"\"\"\n",
    "tests.test_con_pool(conv2d_maxpool)"
   ]
  },
  {
   "cell_type": "markdown",
   "metadata": {
    "colab_type": "text",
    "id": "Uf6MS3E5f18t"
   },
   "source": [
    "### 扁平化层\n",
    "\n",
    "实现 `flatten` 函数，将 `x_tensor` 的维度从四维张量（4-D tensor）变成二维张量。输出应该是形状（*部分大小（Batch Size）*，*扁平化图片大小（Flattened Image Size）*）。快捷方法：对于此层，你可以使用 [TensorFlow Layers](https://www.tensorflow.org/api_docs/python/tf/layers) 或 [TensorFlow Layers (contrib)](https://www.tensorflow.org/api_guides/python/contrib.layers) 包中的类。如果你想要更大挑战，可以仅使用其他 TensorFlow 程序包。\n"
   ]
  },
  {
   "cell_type": "code",
   "execution_count": 5,
   "metadata": {
    "colab": {
     "autoexec": {
      "startup": false,
      "wait_interval": 0
     }
    },
    "colab_type": "code",
    "id": "k06Eg8bwf18u"
   },
   "outputs": [
    {
     "name": "stdout",
     "output_type": "stream",
     "text": [
      "Tests Passed\n"
     ]
    }
   ],
   "source": [
    "def flatten(x_tensor):\n",
    "    \"\"\"\n",
    "    Flatten x_tensor to (Batch Size, Flattened Image Size)\n",
    "    : x_tensor: A tensor of size (Batch Size, ...), where ... are the image dimensions.\n",
    "    : return: A tensor of size (Batch Size, Flattened Image Size).\n",
    "    \"\"\"\n",
    "    # TODO: Implement Function\n",
    "    return tf.contrib.layers.flatten(x_tensor)\n",
    "\n",
    "\n",
    "\"\"\"\n",
    "DON'T MODIFY ANYTHING IN THIS CELL THAT IS BELOW THIS LINE\n",
    "\"\"\"\n",
    "tests.test_flatten(flatten)"
   ]
  },
  {
   "cell_type": "markdown",
   "metadata": {
    "colab_type": "text",
    "id": "V-UfsOo8f185"
   },
   "source": [
    "### 全连接层\n",
    "\n",
    "实现 `fully_conn` 函数，以向 `x_tensor` 应用完全连接的层级，形状为（*部分大小（Batch Size）*，*num_outputs*）。快捷方法：对于此层，你可以使用 [TensorFlow Layers](https://www.tensorflow.org/api_docs/python/tf/layers) 或 [TensorFlow Layers (contrib)](https://www.tensorflow.org/api_guides/python/contrib.layers) 包中的类。如果你想要更大挑战，可以仅使用其他 TensorFlow 程序包。"
   ]
  },
  {
   "cell_type": "code",
   "execution_count": 6,
   "metadata": {
    "colab": {
     "autoexec": {
      "startup": false,
      "wait_interval": 0
     }
    },
    "colab_type": "code",
    "id": "QpxSIE6Pf186"
   },
   "outputs": [
    {
     "name": "stdout",
     "output_type": "stream",
     "text": [
      "Tests Passed\n"
     ]
    }
   ],
   "source": [
    "def fully_conn(x_tensor, num_outputs):\n",
    "    \"\"\"\n",
    "    Apply a fully connected layer to x_tensor using weight and bias\n",
    "    : x_tensor: A 2-D tensor where the first dimension is batch size.\n",
    "    : num_outputs: The number of output that the new tensor should be.\n",
    "    : return: A 2-D tensor where the second dimension is num_outputs.\n",
    "    \"\"\"\n",
    "    # TODO: Implement Function\n",
    "    fc_w = tf.Variable(tf.truncated_normal([x_tensor.get_shape().as_list()[1], num_outputs], stddev=0.1, dtype=tf.float32))\n",
    "    fc_b = tf.Variable(tf.zeros(num_outputs))\n",
    "    return tf.nn.relu(tf.matmul(x_tensor, fc_w) + fc_b)\n",
    "\n",
    "\"\"\"\n",
    "DON'T MODIFY ANYTHING IN THIS CELL THAT IS BELOW THIS LINE\n",
    "\"\"\"\n",
    "tests.test_fully_conn(fully_conn)"
   ]
  },
  {
   "cell_type": "markdown",
   "metadata": {
    "colab_type": "text",
    "id": "4_iVA7Qff19E"
   },
   "source": [
    "### 输出层\n",
    "\n",
    "实现 `output` 函数，向 x_tensor 应用完全连接的层级，形状为（*部分大小（Batch Size）*，*num_outputs*）。快捷方法：对于此层，你可以使用 [TensorFlow Layers](https://www.tensorflow.org/api_docs/python/tf/layers) 或 [TensorFlow Layers (contrib)](https://www.tensorflow.org/api_guides/python/contrib.layers) 包中的类。如果你想要更大挑战，可以仅使用其他 TensorFlow 程序包。\n",
    "\n",
    "**注意**：该层级不应应用 Activation、softmax 或交叉熵（cross entropy）。"
   ]
  },
  {
   "cell_type": "code",
   "execution_count": 7,
   "metadata": {
    "colab": {
     "autoexec": {
      "startup": false,
      "wait_interval": 0
     }
    },
    "colab_type": "code",
    "id": "CPzaFk6Bf19F"
   },
   "outputs": [
    {
     "name": "stdout",
     "output_type": "stream",
     "text": [
      "Tests Passed\n"
     ]
    }
   ],
   "source": [
    "def output(x_tensor, num_outputs):\n",
    "    \"\"\"\n",
    "    Apply a output layer to x_tensor using weight and bias\n",
    "    : x_tensor: A 2-D tensor where the first dimension is batch size.\n",
    "    : num_outputs: The number of output that the new tensor should be.\n",
    "    : return: A 2-D tensor where the second dimension is num_outputs.\n",
    "    \"\"\"\n",
    "    # TODO: Implement Function\n",
    "    out_w = tf.Variable(tf.truncated_normal([x_tensor.get_shape().as_list()[1], num_outputs],stddev=0.1,dtype=tf.float32))\n",
    "    out_b = tf.Variable(tf.zeros(num_outputs))\n",
    "    return tf.matmul(x_tensor,out_w)+out_b\n",
    "\n",
    "\n",
    "\"\"\"\n",
    "DON'T MODIFY ANYTHING IN THIS CELL THAT IS BELOW THIS LINE\n",
    "\"\"\"\n",
    "tests.test_output(output)"
   ]
  },
  {
   "cell_type": "markdown",
   "metadata": {
    "colab_type": "text",
    "id": "XOLGbJ_8f19J"
   },
   "source": [
    "### 创建卷积模型\n",
    "\n",
    "实现函数 `conv_net`， 创建卷积神经网络模型。该函数传入一批图片 `x`，并输出对数（logits）。使用你在上方创建的层创建此模型：\n",
    "\n",
    "* 应用 1、2 或 3 个卷积和最大池化层（Convolution and Max Pool layers）\n",
    "* 应用一个扁平层（Flatten Layer）\n",
    "* 应用 1、2 或 3 个完全连接层（Fully Connected Layers）\n",
    "* 应用一个输出层（Output Layer）\n",
    "* 返回输出\n",
    "* 使用 `keep_prob` 向模型中的一个或多个层应用 [TensorFlow 的 Dropout](https://www.tensorflow.org/api_docs/python/tf/nn/dropout)"
   ]
  },
  {
   "cell_type": "code",
   "execution_count": 8,
   "metadata": {
    "colab": {
     "autoexec": {
      "startup": false,
      "wait_interval": 0
     }
    },
    "colab_type": "code",
    "id": "kHPFAi50f19K"
   },
   "outputs": [
    {
     "name": "stdout",
     "output_type": "stream",
     "text": [
      "Neural Network Built!\n"
     ]
    }
   ],
   "source": [
    "def conv_net(x, keep_prob):\n",
    "    \"\"\"\n",
    "    Create a convolutional neural network model\n",
    "    : x: Placeholder tensor that holds image data.\n",
    "    : keep_prob: Placeholder tensor that hold dropout keep probability.\n",
    "    : return: Tensor that represents logits\n",
    "    \"\"\"\n",
    "    # TODO: Apply 1, 2, or 3 Convolution and Max Pool layers\n",
    "    #    Play around with different number of outputs, kernel size and stride\n",
    "    # Function Definition from Above:\n",
    "    #    conv2d_maxpool(x_tensor, conv_num_outputs, conv_ksize, conv_strides, pool_ksize, pool_strides)\n",
    "    x_max_pool1 = conv2d_maxpool(x, 64, (3,3),(1,1),(2,2),(1,1))\n",
    "    x_max_pool2 = conv2d_maxpool(x_max_pool1, 128, (3,3),(1,1),(2,2),(1,1))\n",
    "    x_max_pool = conv2d_maxpool(x_max_pool2, 256, (3,3),(1,1),(2,2),(1,1))\n",
    "\n",
    "    # TODO: Apply a Flatten Layer\n",
    "    # Function Definition from Above:\n",
    "    #   flatten(x_tensor)\n",
    "    x_flatten = flatten(x_max_pool)\n",
    "\n",
    "    # TODO: Apply 1, 2, or 3 Fully Connected Layers\n",
    "    #    Play around with different number of outputs\n",
    "    # Function Definition from Above:\n",
    "    #   fully_conn(x_tensor, num_outputs)\n",
    "    x_fc_dropout1 = tf.nn.dropout(fully_conn(x_flatten, 512), keep_prob)\n",
    "    x_fc_dropout2 = tf.nn.dropout(fully_conn(x_fc_dropout1, 256), keep_prob)\n",
    "    x_fc_dropout = tf.nn.dropout(fully_conn(x_fc_dropout2, 128), keep_prob)\n",
    "    \n",
    "    # TODO: return output\n",
    "    return output(x_fc_dropout, 10)\n",
    "\n",
    "\n",
    "\"\"\"\n",
    "DON'T MODIFY ANYTHING IN THIS CELL THAT IS BELOW THIS LINE\n",
    "\"\"\"\n",
    "\n",
    "##############################\n",
    "## Build the Neural Network ##\n",
    "##############################\n",
    "\n",
    "# Remove previous weights, bias, inputs, etc..\n",
    "tf.reset_default_graph()\n",
    "\n",
    "# Inputs\n",
    "x = neural_net_image_input((32, 32, 3))\n",
    "y = neural_net_label_input(10)\n",
    "keep_prob = neural_net_keep_prob_input()\n",
    "\n",
    "# Model\n",
    "logits = conv_net(x, keep_prob)\n",
    "\n",
    "# Name logits Tensor, so that is can be loaded from disk after training\n",
    "logits = tf.identity(logits, name='logits')\n",
    "\n",
    "# Loss and Optimizer\n",
    "cost = tf.reduce_mean(tf.nn.softmax_cross_entropy_with_logits(logits=logits, labels=y))\n",
    "optimizer = tf.train.AdamOptimizer().minimize(cost)\n",
    "\n",
    "# Accuracy\n",
    "correct_pred = tf.equal(tf.argmax(logits, 1), tf.argmax(y, 1))\n",
    "accuracy = tf.reduce_mean(tf.cast(correct_pred, tf.float32), name='accuracy')\n",
    "\n",
    "tests.test_conv_net(conv_net)"
   ]
  },
  {
   "cell_type": "markdown",
   "metadata": {
    "colab_type": "text",
    "id": "SAYqAOWLf19V"
   },
   "source": [
    "## 训练神经网络\n",
    "\n",
    "### 单次优化\n",
    "\n",
    "实现函数 `train_neural_network` 以进行单次优化（single optimization）。该优化应该使用 `optimizer` 优化 `session`，其中 `feed_dict` 具有以下参数：\n",
    "\n",
    "* `x` 表示图片输入\n",
    "* `y` 表示标签\n",
    "* `keep_prob` 表示丢弃的保留率\n",
    "\n",
    "每个部分都会调用该函数，所以 `tf.global_variables_initializer()` 已经被调用。\n",
    "\n",
    "注意：不需要返回任何内容。该函数只是用来优化神经网络。\n"
   ]
  },
  {
   "cell_type": "code",
   "execution_count": 9,
   "metadata": {
    "colab": {
     "autoexec": {
      "startup": false,
      "wait_interval": 0
     }
    },
    "colab_type": "code",
    "id": "COYJ7LpEf19V"
   },
   "outputs": [
    {
     "name": "stdout",
     "output_type": "stream",
     "text": [
      "Tests Passed\n"
     ]
    }
   ],
   "source": [
    "def train_neural_network(session, optimizer, keep_probability, feature_batch, label_batch):\n",
    "    \"\"\"\n",
    "    Optimize the session on a batch of images and labels\n",
    "    : session: Current TensorFlow session\n",
    "    : optimizer: TensorFlow optimizer function\n",
    "    : keep_probability: keep probability\n",
    "    : feature_batch: Batch of Numpy image data\n",
    "    : label_batch: Batch of Numpy label data\n",
    "    \"\"\"\n",
    "    # TODO: Implement Function\n",
    "    session.run(optimizer, feed_dict={x:feature_batch, y:label_batch, keep_prob:keep_probability})\n",
    "\n",
    "\n",
    "\"\"\"\n",
    "DON'T MODIFY ANYTHING IN THIS CELL THAT IS BELOW THIS LINE\n",
    "\"\"\"\n",
    "tests.test_train_nn(train_neural_network)"
   ]
  },
  {
   "cell_type": "markdown",
   "metadata": {
    "colab_type": "text",
    "id": "spXc5BvQf19Z"
   },
   "source": [
    "### 显示数据\n",
    "\n",
    "实现函数 `print_stats` 以输出损失和验证准确率。使用全局变量 `valid_features` 和 `valid_labels` 计算验证准确率。使用保留率 `1.0` 计算损失和验证准确率（loss and validation accuracy）。\n"
   ]
  },
  {
   "cell_type": "code",
   "execution_count": 10,
   "metadata": {
    "colab": {
     "autoexec": {
      "startup": false,
      "wait_interval": 0
     }
    },
    "colab_type": "code",
    "collapsed": true,
    "id": "U-r2nz21f19a"
   },
   "outputs": [],
   "source": [
    "def print_stats(session, feature_batch, label_batch, cost, accuracy):\n",
    "    \"\"\"\n",
    "    Print information about loss and validation accuracy\n",
    "    : session: Current TensorFlow session\n",
    "    : feature_batch: Batch of Numpy image data\n",
    "    : label_batch: Batch of Numpy label data\n",
    "    : cost: TensorFlow cost function\n",
    "    : accuracy: TensorFlow accuracy function\n",
    "    \"\"\"\n",
    "    # TODO: Implement Function\n",
    "    cst = session.run(cost, feed_dict={x:feature_batch, y:label_batch, keep_prob:1.0})\n",
    "    acc = session.run(accuracy, feed_dict={x:valid_features, y:valid_labels, keep_prob:1.0})    \n",
    "    print(\"cost:{:.3f}; accuracy:{:.3f}\".format(cst,acc))"
   ]
  },
  {
   "cell_type": "markdown",
   "metadata": {
    "colab_type": "text",
    "id": "4m2vfSZbf19d"
   },
   "source": [
    "### 超参数\n",
    "\n",
    "调试以下超参数：\n",
    "* 设置 `epochs` 表示神经网络停止学习或开始过拟合的迭代次数\n",
    "* 设置 `batch_size`，表示机器内存允许的部分最大体积。大部分人设为以下常见内存大小：\n",
    "\n",
    " * 64\n",
    " * 128\n",
    " * 256\n",
    " * ...\n",
    "* 设置 `keep_probability` 表示使用丢弃时保留节点的概率"
   ]
  },
  {
   "cell_type": "code",
   "execution_count": 11,
   "metadata": {
    "colab": {
     "autoexec": {
      "startup": false,
      "wait_interval": 0
     }
    },
    "colab_type": "code",
    "collapsed": true,
    "id": "uWvB-5gAf19d"
   },
   "outputs": [],
   "source": [
    "# TODO: Tune Parameters\n",
    "epochs = 30\n",
    "batch_size = 512\n",
    "keep_probability = 0.5"
   ]
  },
  {
   "cell_type": "markdown",
   "metadata": {
    "colab_type": "text",
    "id": "FiRbB8Fmf19g"
   },
   "source": [
    "### 在单个 CIFAR-10 部分上训练\n",
    "\n",
    "我们先用单个部分，而不是用所有的 CIFAR-10 批次训练神经网络。这样可以节省时间，并对模型进行迭代，以提高准确率。最终验证准确率达到 50% 或以上之后，在下一部分对所有数据运行模型。\n"
   ]
  },
  {
   "cell_type": "code",
   "execution_count": 16,
   "metadata": {
    "colab": {
     "autoexec": {
      "startup": false,
      "wait_interval": 0
     }
    },
    "colab_type": "code",
    "id": "bZuX8VkPf19h"
   },
   "outputs": [
    {
     "name": "stdout",
     "output_type": "stream",
     "text": [
      "Checking the Training on a Single Batch...\n",
      "Epoch  1, CIFAR-10 Batch 1:  cost:2.280; accuracy:0.172\n",
      "Epoch  2, CIFAR-10 Batch 1:  cost:2.245; accuracy:0.196\n",
      "Epoch  3, CIFAR-10 Batch 1:  cost:2.158; accuracy:0.195\n",
      "Epoch  4, CIFAR-10 Batch 1:  cost:2.068; accuracy:0.264\n",
      "Epoch  5, CIFAR-10 Batch 1:  cost:1.999; accuracy:0.315\n",
      "Epoch  6, CIFAR-10 Batch 1:  cost:1.935; accuracy:0.301\n",
      "Epoch  7, CIFAR-10 Batch 1:  cost:1.862; accuracy:0.364\n",
      "Epoch  8, CIFAR-10 Batch 1:  cost:1.808; accuracy:0.349\n",
      "Epoch  9, CIFAR-10 Batch 1:  cost:1.715; accuracy:0.367\n",
      "Epoch 10, CIFAR-10 Batch 1:  cost:1.648; accuracy:0.413\n",
      "Epoch 11, CIFAR-10 Batch 1:  cost:1.577; accuracy:0.421\n",
      "Epoch 12, CIFAR-10 Batch 1:  cost:1.484; accuracy:0.439\n",
      "Epoch 13, CIFAR-10 Batch 1:  cost:1.434; accuracy:0.447\n",
      "Epoch 14, CIFAR-10 Batch 1:  cost:1.367; accuracy:0.450\n",
      "Epoch 15, CIFAR-10 Batch 1:  cost:1.309; accuracy:0.466\n",
      "Epoch 16, CIFAR-10 Batch 1:  cost:1.233; accuracy:0.486\n",
      "Epoch 17, CIFAR-10 Batch 1:  cost:1.159; accuracy:0.507\n",
      "Epoch 18, CIFAR-10 Batch 1:  cost:1.149; accuracy:0.522\n",
      "Epoch 19, CIFAR-10 Batch 1:  cost:1.077; accuracy:0.517\n",
      "Epoch 20, CIFAR-10 Batch 1:  cost:1.014; accuracy:0.533\n",
      "Epoch 21, CIFAR-10 Batch 1:  cost:0.945; accuracy:0.534\n",
      "Epoch 22, CIFAR-10 Batch 1:  cost:0.917; accuracy:0.536\n",
      "Epoch 23, CIFAR-10 Batch 1:  cost:0.839; accuracy:0.544\n",
      "Epoch 24, CIFAR-10 Batch 1:  cost:0.814; accuracy:0.535\n",
      "Epoch 25, CIFAR-10 Batch 1:  cost:0.719; accuracy:0.568\n",
      "Epoch 26, CIFAR-10 Batch 1:  cost:0.653; accuracy:0.561\n",
      "Epoch 27, CIFAR-10 Batch 1:  cost:0.632; accuracy:0.571\n",
      "Epoch 28, CIFAR-10 Batch 1:  cost:0.627; accuracy:0.576\n",
      "Epoch 29, CIFAR-10 Batch 1:  cost:0.559; accuracy:0.573\n",
      "Epoch 30, CIFAR-10 Batch 1:  cost:0.556; accuracy:0.574\n"
     ]
    }
   ],
   "source": [
    "\"\"\"\n",
    "DON'T MODIFY ANYTHING IN THIS CELL\n",
    "\"\"\"\n",
    "print('Checking the Training on a Single Batch...')\n",
    "with tf.Session() as sess:\n",
    "    # Initializing the variables\n",
    "    sess.run(tf.global_variables_initializer())\n",
    "    \n",
    "    # Training cycle\n",
    "    for epoch in range(epochs):\n",
    "        batch_i = 1\n",
    "        for batch_features, batch_labels in helper.load_preprocess_training_batch(batch_i, batch_size):\n",
    "            train_neural_network(sess, optimizer, keep_probability, batch_features, batch_labels)\n",
    "        print('Epoch {:>2}, CIFAR-10 Batch {}:  '.format(epoch + 1, batch_i), end='')\n",
    "        print_stats(sess, batch_features, batch_labels, cost, accuracy)"
   ]
  },
  {
   "cell_type": "markdown",
   "metadata": {
    "colab_type": "text",
    "id": "V0Fw7DhLf19k"
   },
   "source": [
    "### 完全训练模型\n",
    "\n",
    "现在，单个 CIFAR-10 部分的准确率已经不错了，试试所有五个部分吧。"
   ]
  },
  {
   "cell_type": "code",
   "execution_count": 12,
   "metadata": {
    "colab": {
     "autoexec": {
      "startup": false,
      "wait_interval": 0
     }
    },
    "colab_type": "code",
    "id": "XObfPDidf19l",
    "scrolled": false
   },
   "outputs": [
    {
     "name": "stdout",
     "output_type": "stream",
     "text": [
      "Training...\n",
      "Epoch  1, CIFAR-10 Batch 1:  cost:2.288; accuracy:0.172\n",
      "Epoch  1, CIFAR-10 Batch 2:  cost:2.247; accuracy:0.190\n",
      "Epoch  1, CIFAR-10 Batch 3:  cost:2.148; accuracy:0.226\n",
      "Epoch  1, CIFAR-10 Batch 4:  cost:2.071; accuracy:0.242\n",
      "Epoch  1, CIFAR-10 Batch 5:  cost:1.963; accuracy:0.296\n",
      "Epoch  2, CIFAR-10 Batch 1:  cost:1.940; accuracy:0.337\n",
      "Epoch  2, CIFAR-10 Batch 2:  cost:1.796; accuracy:0.345\n",
      "Epoch  2, CIFAR-10 Batch 3:  cost:1.631; accuracy:0.387\n",
      "Epoch  2, CIFAR-10 Batch 4:  cost:1.542; accuracy:0.426\n",
      "Epoch  2, CIFAR-10 Batch 5:  cost:1.594; accuracy:0.418\n",
      "Epoch  3, CIFAR-10 Batch 1:  cost:1.645; accuracy:0.415\n",
      "Epoch  3, CIFAR-10 Batch 2:  cost:1.517; accuracy:0.458\n",
      "Epoch  3, CIFAR-10 Batch 3:  cost:1.304; accuracy:0.471\n",
      "Epoch  3, CIFAR-10 Batch 4:  cost:1.305; accuracy:0.483\n",
      "Epoch  3, CIFAR-10 Batch 5:  cost:1.361; accuracy:0.481\n",
      "Epoch  4, CIFAR-10 Batch 1:  cost:1.415; accuracy:0.507\n",
      "Epoch  4, CIFAR-10 Batch 2:  cost:1.320; accuracy:0.508\n",
      "Epoch  4, CIFAR-10 Batch 3:  cost:1.199; accuracy:0.503\n",
      "Epoch  4, CIFAR-10 Batch 4:  cost:1.163; accuracy:0.532\n",
      "Epoch  4, CIFAR-10 Batch 5:  cost:1.173; accuracy:0.531\n",
      "Epoch  5, CIFAR-10 Batch 1:  cost:1.212; accuracy:0.543\n",
      "Epoch  5, CIFAR-10 Batch 2:  cost:1.161; accuracy:0.562\n",
      "Epoch  5, CIFAR-10 Batch 3:  cost:1.049; accuracy:0.547\n",
      "Epoch  5, CIFAR-10 Batch 4:  cost:1.020; accuracy:0.569\n",
      "Epoch  5, CIFAR-10 Batch 5:  cost:1.044; accuracy:0.578\n",
      "Epoch  6, CIFAR-10 Batch 1:  cost:1.085; accuracy:0.571\n",
      "Epoch  6, CIFAR-10 Batch 2:  cost:1.041; accuracy:0.573\n",
      "Epoch  6, CIFAR-10 Batch 3:  cost:0.955; accuracy:0.579\n",
      "Epoch  6, CIFAR-10 Batch 4:  cost:0.936; accuracy:0.601\n",
      "Epoch  6, CIFAR-10 Batch 5:  cost:0.947; accuracy:0.611\n",
      "Epoch  7, CIFAR-10 Batch 1:  cost:1.018; accuracy:0.576\n",
      "Epoch  7, CIFAR-10 Batch 2:  cost:0.945; accuracy:0.601\n",
      "Epoch  7, CIFAR-10 Batch 3:  cost:0.815; accuracy:0.623\n",
      "Epoch  7, CIFAR-10 Batch 4:  cost:0.812; accuracy:0.618\n",
      "Epoch  7, CIFAR-10 Batch 5:  cost:0.815; accuracy:0.634\n",
      "Epoch  8, CIFAR-10 Batch 1:  cost:0.862; accuracy:0.617\n",
      "Epoch  8, CIFAR-10 Batch 2:  cost:0.868; accuracy:0.585\n",
      "Epoch  8, CIFAR-10 Batch 3:  cost:0.757; accuracy:0.635\n",
      "Epoch  8, CIFAR-10 Batch 4:  cost:0.727; accuracy:0.628\n",
      "Epoch  8, CIFAR-10 Batch 5:  cost:0.734; accuracy:0.656\n",
      "Epoch  9, CIFAR-10 Batch 1:  cost:0.812; accuracy:0.655\n",
      "Epoch  9, CIFAR-10 Batch 2:  cost:0.746; accuracy:0.627\n",
      "Epoch  9, CIFAR-10 Batch 3:  cost:0.753; accuracy:0.619\n",
      "Epoch  9, CIFAR-10 Batch 4:  cost:0.662; accuracy:0.650\n",
      "Epoch  9, CIFAR-10 Batch 5:  cost:0.707; accuracy:0.660\n",
      "Epoch 10, CIFAR-10 Batch 1:  cost:0.703; accuracy:0.676\n",
      "Epoch 10, CIFAR-10 Batch 2:  cost:0.714; accuracy:0.659\n",
      "Epoch 10, CIFAR-10 Batch 3:  cost:0.619; accuracy:0.678\n",
      "Epoch 10, CIFAR-10 Batch 4:  cost:0.566; accuracy:0.672\n",
      "Epoch 10, CIFAR-10 Batch 5:  cost:0.633; accuracy:0.663\n",
      "Epoch 11, CIFAR-10 Batch 1:  cost:0.639; accuracy:0.683\n",
      "Epoch 11, CIFAR-10 Batch 2:  cost:0.624; accuracy:0.675\n",
      "Epoch 11, CIFAR-10 Batch 3:  cost:0.578; accuracy:0.687\n",
      "Epoch 11, CIFAR-10 Batch 4:  cost:0.489; accuracy:0.686\n",
      "Epoch 11, CIFAR-10 Batch 5:  cost:0.580; accuracy:0.674\n",
      "Epoch 12, CIFAR-10 Batch 1:  cost:0.569; accuracy:0.688\n",
      "Epoch 12, CIFAR-10 Batch 2:  cost:0.573; accuracy:0.693\n",
      "Epoch 12, CIFAR-10 Batch 3:  cost:0.533; accuracy:0.696\n",
      "Epoch 12, CIFAR-10 Batch 4:  cost:0.448; accuracy:0.698\n",
      "Epoch 12, CIFAR-10 Batch 5:  cost:0.526; accuracy:0.680\n",
      "Epoch 13, CIFAR-10 Batch 1:  cost:0.533; accuracy:0.694\n",
      "Epoch 13, CIFAR-10 Batch 2:  cost:0.547; accuracy:0.692\n",
      "Epoch 13, CIFAR-10 Batch 3:  cost:0.481; accuracy:0.698\n",
      "Epoch 13, CIFAR-10 Batch 4:  cost:0.433; accuracy:0.692\n",
      "Epoch 13, CIFAR-10 Batch 5:  cost:0.427; accuracy:0.705\n",
      "Epoch 14, CIFAR-10 Batch 1:  cost:0.474; accuracy:0.702\n",
      "Epoch 14, CIFAR-10 Batch 2:  cost:0.478; accuracy:0.702\n",
      "Epoch 14, CIFAR-10 Batch 3:  cost:0.402; accuracy:0.712\n",
      "Epoch 14, CIFAR-10 Batch 4:  cost:0.362; accuracy:0.709\n",
      "Epoch 14, CIFAR-10 Batch 5:  cost:0.371; accuracy:0.718\n",
      "Epoch 15, CIFAR-10 Batch 1:  cost:0.457; accuracy:0.696\n",
      "Epoch 15, CIFAR-10 Batch 2:  cost:0.388; accuracy:0.706\n",
      "Epoch 15, CIFAR-10 Batch 3:  cost:0.352; accuracy:0.720\n",
      "Epoch 15, CIFAR-10 Batch 4:  cost:0.339; accuracy:0.713\n",
      "Epoch 15, CIFAR-10 Batch 5:  cost:0.332; accuracy:0.716\n",
      "Epoch 16, CIFAR-10 Batch 1:  cost:0.367; accuracy:0.710\n",
      "Epoch 16, CIFAR-10 Batch 2:  cost:0.322; accuracy:0.720\n",
      "Epoch 16, CIFAR-10 Batch 3:  cost:0.337; accuracy:0.723\n",
      "Epoch 16, CIFAR-10 Batch 4:  cost:0.276; accuracy:0.720\n",
      "Epoch 16, CIFAR-10 Batch 5:  cost:0.273; accuracy:0.721\n",
      "Epoch 17, CIFAR-10 Batch 1:  cost:0.366; accuracy:0.693\n",
      "Epoch 17, CIFAR-10 Batch 2:  cost:0.312; accuracy:0.713\n",
      "Epoch 17, CIFAR-10 Batch 3:  cost:0.316; accuracy:0.717\n",
      "Epoch 17, CIFAR-10 Batch 4:  cost:0.231; accuracy:0.720\n",
      "Epoch 17, CIFAR-10 Batch 5:  cost:0.261; accuracy:0.726\n",
      "Epoch 18, CIFAR-10 Batch 1:  cost:0.297; accuracy:0.716\n",
      "Epoch 18, CIFAR-10 Batch 2:  cost:0.289; accuracy:0.702\n",
      "Epoch 18, CIFAR-10 Batch 3:  cost:0.290; accuracy:0.720\n",
      "Epoch 18, CIFAR-10 Batch 4:  cost:0.291; accuracy:0.702\n",
      "Epoch 18, CIFAR-10 Batch 5:  cost:0.262; accuracy:0.714\n",
      "Epoch 19, CIFAR-10 Batch 1:  cost:0.291; accuracy:0.724\n",
      "Epoch 19, CIFAR-10 Batch 2:  cost:0.261; accuracy:0.722\n",
      "Epoch 19, CIFAR-10 Batch 3:  cost:0.258; accuracy:0.725\n",
      "Epoch 19, CIFAR-10 Batch 4:  cost:0.184; accuracy:0.728\n",
      "Epoch 19, CIFAR-10 Batch 5:  cost:0.197; accuracy:0.722\n",
      "Epoch 20, CIFAR-10 Batch 1:  cost:0.233; accuracy:0.736\n",
      "Epoch 20, CIFAR-10 Batch 2:  cost:0.205; accuracy:0.715\n",
      "Epoch 20, CIFAR-10 Batch 3:  cost:0.249; accuracy:0.715\n",
      "Epoch 20, CIFAR-10 Batch 4:  cost:0.165; accuracy:0.733\n",
      "Epoch 20, CIFAR-10 Batch 5:  cost:0.184; accuracy:0.722\n",
      "Epoch 21, CIFAR-10 Batch 1:  cost:0.246; accuracy:0.703\n",
      "Epoch 21, CIFAR-10 Batch 2:  cost:0.209; accuracy:0.728\n",
      "Epoch 21, CIFAR-10 Batch 3:  cost:0.197; accuracy:0.731\n",
      "Epoch 21, CIFAR-10 Batch 4:  cost:0.173; accuracy:0.712\n",
      "Epoch 21, CIFAR-10 Batch 5:  cost:0.174; accuracy:0.722\n",
      "Epoch 22, CIFAR-10 Batch 1:  cost:0.176; accuracy:0.735\n",
      "Epoch 22, CIFAR-10 Batch 2:  cost:0.140; accuracy:0.735\n",
      "Epoch 22, CIFAR-10 Batch 3:  cost:0.153; accuracy:0.744\n",
      "Epoch 22, CIFAR-10 Batch 4:  cost:0.132; accuracy:0.721\n",
      "Epoch 22, CIFAR-10 Batch 5:  cost:0.148; accuracy:0.717\n",
      "Epoch 23, CIFAR-10 Batch 1:  cost:0.156; accuracy:0.736\n",
      "Epoch 23, CIFAR-10 Batch 2:  cost:0.131; accuracy:0.741\n",
      "Epoch 23, CIFAR-10 Batch 3:  cost:0.140; accuracy:0.741\n",
      "Epoch 23, CIFAR-10 Batch 4:  cost:0.134; accuracy:0.714\n",
      "Epoch 23, CIFAR-10 Batch 5:  cost:0.117; accuracy:0.731\n",
      "Epoch 24, CIFAR-10 Batch 1:  cost:0.158; accuracy:0.719\n",
      "Epoch 24, CIFAR-10 Batch 2:  cost:0.134; accuracy:0.730\n",
      "Epoch 24, CIFAR-10 Batch 3:  cost:0.127; accuracy:0.739\n",
      "Epoch 24, CIFAR-10 Batch 4:  cost:0.100; accuracy:0.727\n",
      "Epoch 24, CIFAR-10 Batch 5:  cost:0.123; accuracy:0.733\n",
      "Epoch 25, CIFAR-10 Batch 1:  cost:0.155; accuracy:0.728\n",
      "Epoch 25, CIFAR-10 Batch 2:  cost:0.137; accuracy:0.724\n",
      "Epoch 25, CIFAR-10 Batch 3:  cost:0.139; accuracy:0.735\n",
      "Epoch 25, CIFAR-10 Batch 4:  cost:0.101; accuracy:0.730\n",
      "Epoch 25, CIFAR-10 Batch 5:  cost:0.118; accuracy:0.729\n",
      "Epoch 26, CIFAR-10 Batch 1:  cost:0.131; accuracy:0.730\n",
      "Epoch 26, CIFAR-10 Batch 2:  cost:0.121; accuracy:0.718\n",
      "Epoch 26, CIFAR-10 Batch 3:  cost:0.093; accuracy:0.738\n",
      "Epoch 26, CIFAR-10 Batch 4:  cost:0.099; accuracy:0.733\n",
      "Epoch 26, CIFAR-10 Batch 5:  cost:0.072; accuracy:0.745\n",
      "Epoch 27, CIFAR-10 Batch 1:  cost:0.137; accuracy:0.732\n",
      "Epoch 27, CIFAR-10 Batch 2:  cost:0.090; accuracy:0.737\n",
      "Epoch 27, CIFAR-10 Batch 3:  cost:0.107; accuracy:0.725\n",
      "Epoch 27, CIFAR-10 Batch 4:  cost:0.102; accuracy:0.727\n",
      "Epoch 27, CIFAR-10 Batch 5:  cost:0.067; accuracy:0.739\n",
      "Epoch 28, CIFAR-10 Batch 1:  cost:0.122; accuracy:0.739\n",
      "Epoch 28, CIFAR-10 Batch 2:  cost:0.079; accuracy:0.746\n",
      "Epoch 28, CIFAR-10 Batch 3:  cost:0.068; accuracy:0.746\n",
      "Epoch 28, CIFAR-10 Batch 4:  cost:0.079; accuracy:0.727\n",
      "Epoch 28, CIFAR-10 Batch 5:  cost:0.052; accuracy:0.742\n",
      "Epoch 29, CIFAR-10 Batch 1:  cost:0.078; accuracy:0.736\n",
      "Epoch 29, CIFAR-10 Batch 2:  cost:0.071; accuracy:0.735\n",
      "Epoch 29, CIFAR-10 Batch 3:  cost:0.063; accuracy:0.730\n",
      "Epoch 29, CIFAR-10 Batch 4:  cost:0.074; accuracy:0.734\n",
      "Epoch 29, CIFAR-10 Batch 5:  cost:0.072; accuracy:0.735\n",
      "Epoch 30, CIFAR-10 Batch 1:  cost:0.078; accuracy:0.738\n",
      "Epoch 30, CIFAR-10 Batch 2:  cost:0.052; accuracy:0.738\n",
      "Epoch 30, CIFAR-10 Batch 3:  cost:0.063; accuracy:0.741\n",
      "Epoch 30, CIFAR-10 Batch 4:  cost:0.072; accuracy:0.735\n",
      "Epoch 30, CIFAR-10 Batch 5:  cost:0.041; accuracy:0.739\n"
     ]
    }
   ],
   "source": [
    "\"\"\"\n",
    "DON'T MODIFY ANYTHING IN THIS CELL\n",
    "\"\"\"\n",
    "save_model_path = './image_classification'\n",
    "\n",
    "print('Training...')\n",
    "with tf.Session() as sess:\n",
    "    # Initializing the variables\n",
    "    sess.run(tf.global_variables_initializer())\n",
    "    \n",
    "    # Training cycle\n",
    "    for epoch in range(epochs):\n",
    "        # Loop over all batches\n",
    "        n_batches = 5\n",
    "        for batch_i in range(1, n_batches + 1):\n",
    "            for batch_features, batch_labels in helper.load_preprocess_training_batch(batch_i, batch_size):\n",
    "                train_neural_network(sess, optimizer, keep_probability, batch_features, batch_labels)\n",
    "            print('Epoch {:>2}, CIFAR-10 Batch {}:  '.format(epoch + 1, batch_i), end='')\n",
    "            print_stats(sess, batch_features, batch_labels, cost, accuracy)\n",
    "            \n",
    "    # Save Model\n",
    "    saver = tf.train.Saver()\n",
    "    save_path = saver.save(sess, save_model_path)"
   ]
  },
  {
   "cell_type": "markdown",
   "metadata": {
    "colab_type": "text",
    "id": "sURejm5Ef19q"
   },
   "source": [
    "# 检查点\n",
    "\n",
    "模型已保存到本地。\n",
    "\n",
    "## 测试模型\n",
    "\n",
    "利用测试数据集测试你的模型。这将是最终的准确率。你的准确率应该高于 50%。如果没达到，请继续调整模型结构和参数。"
   ]
  },
  {
   "cell_type": "code",
   "execution_count": 14,
   "metadata": {
    "colab": {
     "autoexec": {
      "startup": false,
      "wait_interval": 0
     }
    },
    "colab_type": "code",
    "id": "OBEd28mMf19r"
   },
   "outputs": [
    {
     "name": "stdout",
     "output_type": "stream",
     "text": [
      "INFO:tensorflow:Restoring parameters from ./image_classification\n",
      "Testing Accuracy: 0.7331686586141586\n",
      "\n"
     ]
    },
    {
     "data": {
      "image/png": "[encoded data removed]",
      "text/plain": [
       "<matplotlib.figure.Figure at 0x7f30e5ec19b0>"
      ]
     },
     "metadata": {
      "image/png": {
       "height": 319,
       "width": 355
      }
     },
     "output_type": "display_data"
    }
   ],
   "source": [
    "\"\"\"\n",
    "DON'T MODIFY ANYTHING IN THIS CELL\n",
    "\"\"\"\n",
    "%matplotlib inline\n",
    "%config InlineBackend.figure_format = 'retina'\n",
    "\n",
    "import tensorflow as tf\n",
    "import pickle\n",
    "import helper\n",
    "import random\n",
    "\n",
    "# Set batch size if not already set\n",
    "try:\n",
    "    if batch_size:\n",
    "        pass\n",
    "except NameError:\n",
    "    batch_size = 64\n",
    "\n",
    "save_model_path = './image_classification'\n",
    "n_samples = 4\n",
    "top_n_predictions = 3\n",
    "\n",
    "def test_model():\n",
    "    \"\"\"\n",
    "    Test the saved model against the test dataset\n",
    "    \"\"\"\n",
    "\n",
    "    test_features, test_labels = pickle.load(open('preprocess_test.p', mode='rb'))\n",
    "    loaded_graph = tf.Graph()\n",
    "\n",
    "    with tf.Session(graph=loaded_graph) as sess:\n",
    "        # Load model\n",
    "        loader = tf.train.import_meta_graph(save_model_path + '.meta')\n",
    "        loader.restore(sess, save_model_path)\n",
    "\n",
    "        # Get Tensors from loaded model\n",
    "        loaded_x = loaded_graph.get_tensor_by_name('x:0')\n",
    "        loaded_y = loaded_graph.get_tensor_by_name('y:0')\n",
    "        loaded_keep_prob = loaded_graph.get_tensor_by_name('keep_prob:0')\n",
    "        loaded_logits = loaded_graph.get_tensor_by_name('logits:0')\n",
    "        loaded_acc = loaded_graph.get_tensor_by_name('accuracy:0')\n",
    "        \n",
    "        # Get accuracy in batches for memory limitations\n",
    "        test_batch_acc_total = 0\n",
    "        test_batch_count = 0\n",
    "        \n",
    "        for test_feature_batch, test_label_batch in helper.batch_features_labels(test_features, test_labels, batch_size):\n",
    "            test_batch_acc_total += sess.run(\n",
    "                loaded_acc,\n",
    "                feed_dict={loaded_x: test_feature_batch, loaded_y: test_label_batch, loaded_keep_prob: 1.0})\n",
    "            test_batch_count += 1\n",
    "\n",
    "        print('Testing Accuracy: {}\\n'.format(test_batch_acc_total/test_batch_count))\n",
    "\n",
    "        # Print Random Samples\n",
    "        random_test_features, random_test_labels = tuple(zip(*random.sample(list(zip(test_features, test_labels)), n_samples)))\n",
    "        random_test_predictions = sess.run(\n",
    "            tf.nn.top_k(tf.nn.softmax(loaded_logits), top_n_predictions),\n",
    "            feed_dict={loaded_x: random_test_features, loaded_y: random_test_labels, loaded_keep_prob: 1.0})\n",
    "        helper.display_image_predictions(random_test_features, random_test_labels, random_test_predictions)\n",
    "\n",
    "\n",
    "test_model()"
   ]
  },
  {
   "cell_type": "markdown",
   "metadata": {
    "colab_type": "text",
    "id": "cQAxi7rCf19v"
   },
   "source": [
    "## 为何准确率只有50-80%？\n",
    "\n",
    "你可能想问，为何准确率不能更高了？首先，对于简单的 CNN 网络来说，50% 已经不低了。纯粹猜测的准确率为10%。但是，你可能注意到有人的准确率[远远超过 80%](http://rodrigob.github.io/are_we_there_yet/build/classification_datasets_results.html#43494641522d3130)。这是因为我们还没有介绍所有的神经网络知识。我们还需要掌握一些其他技巧。\n",
    "\n",
    "## 提交项目\n",
    "\n",
    "提交项目时，确保先运行所有单元，然后再保存记事本。将 notebook 文件另存为“dlnd_image_classification.ipynb”，再在目录 \"File\" -> \"Download as\" 另存为 HTML 格式。请在提交的项目中包含 “helper.py” 和 “problem_unittests.py” 文件。\n"
   ]
  }
 ],
 "metadata": {
  "accelerator": "GPU",
  "colab": {
   "collapsed_sections": [],
   "default_view": {},
   "name": "dlnd_image_classification.ipynb",
   "private_outputs": true,
   "provenance": [],
   "version": "0.3.2",
   "views": {}
  },
  "kernelspec": {
   "display_name": "Python 2",
   "language": "python",
   "name": "python2"
  },
  "language_info": {
   "codemirror_mode": {
    "name": "ipython",
    "version": 2
   },
   "file_extension": ".py",
   "mimetype": "text/x-python",
   "name": "python",
   "nbconvert_exporter": "python",
   "pygments_lexer": "ipython2",
   "version": "2.7.13"
  }
 },
 "nbformat": 4,
 "nbformat_minor": 1
}
